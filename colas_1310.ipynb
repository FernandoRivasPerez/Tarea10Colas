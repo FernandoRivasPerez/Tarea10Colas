{
  "nbformat": 4,
  "nbformat_minor": 0,
  "metadata": {
    "colab": {
      "name": "colas_1310.ipynb",
      "provenance": [],
      "collapsed_sections": [],
      "authorship_tag": "ABX9TyMNhkvQ1NiKbWZH1MsX2495",
      "include_colab_link": true
    },
    "kernelspec": {
      "name": "python3",
      "display_name": "Python 3"
    },
    "language_info": {
      "name": "python"
    }
  },
  "cells": [
    {
      "cell_type": "markdown",
      "metadata": {
        "id": "view-in-github",
        "colab_type": "text"
      },
      "source": [
        "<a href=\"https://colab.research.google.com/github/FernandoRivasPerez/Tarea10Colas/blob/main/colas_1310.ipynb\" target=\"_parent\"><img src=\"https://colab.research.google.com/assets/colab-badge.svg\" alt=\"Open In Colab\"/></a>"
      ]
    },
    {
      "cell_type": "code",
      "metadata": {
        "id": "-a4XvrbFKPe6"
      },
      "source": [
        "class Queue:\n",
        "    def __init__( self ):\n",
        "        self.data = []\n",
        "    \n",
        "    def is_empty( self ):\n",
        "        return len( self.data ) == 0\n",
        "\n",
        "    def length( self ):\n",
        "        return len( self.data )\n",
        "\n",
        "    def enqueue( self , value ):\n",
        "        self.data.append( value )\n",
        "\n",
        "    def dequeue( self ):\n",
        "        return self.data.pop(0)\n",
        "\n",
        "    def to_string( self ):\n",
        "        for elem in self.data:\n",
        "            print(f\"|{ elem }| <-- \" , end=\"\" )\n",
        "        print(\"\")"
      ],
      "execution_count": null,
      "outputs": []
    },
    {
      "cell_type": "code",
      "metadata": {
        "colab": {
          "base_uri": "https://localhost:8080/"
        },
        "id": "Wo0gM96iNgg_",
        "outputId": "8c3427ce-f905-45dc-cfd7-3e97782e4d2c"
      },
      "source": [
        "cola = Queue()\n",
        "print(\"¿Está vacío?: \", cola.is_empty())\n",
        "print(\"Numero de elementos = \", cola.length())\n",
        "cola.enqueue(10)\n",
        "cola.enqueue(20)\n",
        "cola.enqueue(30)\n",
        "print(\"¿Está vacío?: \", cola.is_empty())\n",
        "print(\"Numero de elementos = \", cola.length())\n",
        "cola.enqueue(40)\n",
        "cola.enqueue(50)\n",
        "cola.enqueue(60)\n",
        "cola.to_string()\n",
        "siguiente = cola.dequeue()\n",
        "print(\"Atendiendo a: \" , siguiente)\n",
        "cola.to_string()"
      ],
      "execution_count": null,
      "outputs": [
        {
          "output_type": "stream",
          "name": "stdout",
          "text": [
            "¿Está vacío?:  True\n",
            "Numero de elementos =  0\n",
            "¿Está vacío?:  False\n",
            "Numero de elementos =  3\n",
            "|10| <-- |20| <-- |30| <-- |40| <-- |50| <-- |60| <-- \n",
            "Atendiendo a:  10\n",
            "|20| <-- |30| <-- |40| <-- |50| <-- |60| <-- \n"
          ]
        }
      ]
    },
    {
      "cell_type": "markdown",
      "metadata": {
        "id": "4MubaM6BQjF0"
      },
      "source": [
        "# Variantes del ADT Cola\n",
        "1. Circulares\n",
        "2. Prioridad\n",
        "    1. Acotada\n",
        "    2. No acotada\n"
      ]
    },
    {
      "cell_type": "code",
      "metadata": {
        "id": "w3EMGRuLUeGZ"
      },
      "source": [
        "class Nodo:\n",
        "    def __init__(self, prioridad, elem):\n",
        "        self.prioridad = prioridad\n",
        "        self.elem = elem\n",
        "     \n",
        "class PriorityQueue:\n",
        "    def __init__( self ):\n",
        "        self.data = []\n",
        "    \n",
        "    def is_empty( self ):\n",
        "        return len( self.data ) == 0\n",
        "\n",
        "    def length( self ):\n",
        "        return len( self.data )\n",
        "\n",
        "    def enqueue( self , nodo ):\n",
        "        if self.is_empty():\n",
        "            self.data.append( nodo )\n",
        "        else:\n",
        "            for x in range(0, self.length()):\n",
        "                if nodo.prioridad >= self.data[x].prioridad:\n",
        "                    if x == (self.length() - 1):\n",
        "                        self.data.insert(x+1, nodo)\n",
        "                    else:\n",
        "                        continue\n",
        "                else:\n",
        "                    self.data.insert(x, nodo)\n",
        "                    return True\n",
        "\n",
        "\n",
        "    def dequeue( self ):\n",
        "        return self.data.pop(0)\n",
        "\n",
        "    def to_string( self ):\n",
        "        for x in self.data:\n",
        "            print(f\" |{x.prioridad},{x.elem}| <--\", end=\"\")"
      ],
      "execution_count": null,
      "outputs": []
    },
    {
      "cell_type": "code",
      "metadata": {
        "colab": {
          "base_uri": "https://localhost:8080/"
        },
        "id": "D6Z-EHuc5QE8",
        "outputId": "040c28a9-60d3-484e-efc6-1b9159539fab"
      },
      "source": [
        "pcola = PriorityQueue()\n",
        "print(f\"¿La lista está vacía? = {pcola.is_empty()}\")\n",
        "print(f\"La longitud de la cola es: {pcola.length()}\")\n",
        "print(\"\")\n",
        "nodo1 = Nodo(1, \"Niñas\")\n",
        "nodo2 = Nodo(1, \"Mujeres\")\n",
        "nodo3 = Nodo(1, \"Personas de la 3era edad\")\n",
        "nodo4 = Nodo(3, \"Hombres\")\n",
        "nodo5 = Nodo(2, \"Niños\")\n",
        "nodo6 = Nodo(5, \"Capitan\")\n",
        "nodo7 = Nodo(4, \"Trabajadores\")\n",
        "nodo8 = Nodo(4, \"Tripulación\")\n",
        "\n",
        "pcola.enqueue(nodo1)\n",
        "pcola.enqueue(nodo2)\n",
        "pcola.enqueue(nodo3)\n",
        "pcola.enqueue(nodo4)\n",
        "pcola.enqueue(nodo5)\n",
        "pcola.enqueue(nodo6)\n",
        "pcola.enqueue(nodo7)\n",
        "pcola.enqueue(nodo8)\n",
        "pcola.to_string()\n",
        "print(\"\")\n",
        "print(f\"La longitud de la cola es: {pcola.length()}\")\n",
        "print(\"\")\n",
        "print(\"--------------------------Despues de dequeue--------------------------\")\n",
        "print(\"\")\n",
        "pcola.dequeue()\n",
        "pcola.to_string()\n",
        "print(\"\")\n",
        "print(f\"La longitud de la cola es: {pcola.length()}\")\n"
      ],
      "execution_count": null,
      "outputs": [
        {
          "output_type": "stream",
          "name": "stdout",
          "text": [
            "¿La lista está vacía? = True\n",
            "La longitud de la cola es: 0\n",
            "\n",
            " |1,Niñas| <-- |1,Mujeres| <-- |1,Personas de la 3era edad| <-- |2,Niños| <-- |3,Hombres| <-- |4,Trabajadores| <-- |4,Tripulación| <-- |5,Capitan| <--\n",
            "La longitud de la cola es: 8\n",
            "\n",
            "--------------------------Despues de dequeue--------------------------\n",
            "\n",
            " |1,Mujeres| <-- |1,Personas de la 3era edad| <-- |2,Niños| <-- |3,Hombres| <-- |4,Trabajadores| <-- |4,Tripulación| <-- |5,Capitan| <--\n",
            "La longitud de la cola es: 7\n"
          ]
        }
      ]
    }
  ]
}